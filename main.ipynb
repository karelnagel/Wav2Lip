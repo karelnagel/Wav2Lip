{
 "cells": [
  {
   "cell_type": "code",
   "execution_count": 1,
   "metadata": {},
   "outputs": [],
   "source": [
    "from wav2lip import Wav2Lip"
   ]
  },
  {
   "cell_type": "code",
   "execution_count": 2,
   "metadata": {},
   "outputs": [
    {
     "name": "stdout",
     "output_type": "stream",
     "text": [
      "Load checkpoint from: wav2lip_gan.pth\n"
     ]
    }
   ],
   "source": [
    "checkpoint = \"wav2lip_gan.pth\"\n",
    "wav2lip = Wav2Lip(checkpoint,12)"
   ]
  },
  {
   "cell_type": "code",
   "execution_count": 3,
   "metadata": {},
   "outputs": [],
   "source": [
    "import io\n",
    "def get_bytes(path:str):\n",
    "    with open(path,\"rb\") as f:\n",
    "        return io.BytesIO(f.read())"
   ]
  },
  {
   "cell_type": "code",
   "execution_count": 4,
   "metadata": {},
   "outputs": [
    {
     "name": "stderr",
     "output_type": "stream",
     "text": [
      "100%|██████████| 1/1 [00:07<00:00,  7.38s/it]"
     ]
    },
    {
     "name": "stdout",
     "output_type": "stream",
     "text": [
      "Face detection time: 7.587116003036499\n"
     ]
    },
    {
     "name": "stderr",
     "output_type": "stream",
     "text": [
      "\n"
     ]
    }
   ],
   "source": [
    "face = \"jfk.jpg\"\n",
    "audio = \"jfk.wav\"\n",
    "audio = get_bytes(audio)\n",
    "out = \"out.avi\"\n",
    "full_frames, fps, face_det_results = wav2lip.load_face(face_path=face, static=True)"
   ]
  },
  {
   "cell_type": "code",
   "execution_count": 9,
   "metadata": {},
   "outputs": [
    {
     "name": "stdout",
     "output_type": "stream",
     "text": [
      "Number of frames available for inference: 1\n",
      "(80, 881)\n"
     ]
    },
    {
     "name": "stderr",
     "output_type": "stream",
     "text": [
      "  0%|          | 0/2 [00:00<?, ?it/s]"
     ]
    },
    {
     "name": "stderr",
     "output_type": "stream",
     "text": [
      "100%|██████████| 2/2 [00:09<00:00,  4.52s/it]"
     ]
    },
    {
     "name": "stdout",
     "output_type": "stream",
     "text": [
      "Saved to out.avi\n",
      "out.avi\n"
     ]
    },
    {
     "name": "stderr",
     "output_type": "stream",
     "text": [
      "\n"
     ]
    }
   ],
   "source": [
    "audio.seek(0)\n",
    "res = wav2lip.infer(\n",
    "    audio_path=audio,\n",
    "    out_path=out,\n",
    "    static=True,\n",
    "    full_frames=full_frames,\n",
    "    fps=fps,\n",
    "    face_det_results=face_det_results,\n",
    ")\n",
    "print(res)"
   ]
  },
  {
   "cell_type": "code",
   "execution_count": 6,
   "metadata": {},
   "outputs": [
    {
     "name": "stdout",
     "output_type": "stream",
     "text": [
      "ffmpeg version 6.1.1 Copyright (c) 2000-2023 the FFmpeg developers\n",
      "  built with Apple clang version 15.0.0 (clang-1500.1.0.2.5)\n",
      "  configuration: --prefix=/opt/homebrew/Cellar/ffmpeg/6.1.1_2 --enable-shared --enable-pthreads --enable-version3 --cc=clang --host-cflags= --host-ldflags='-Wl,-ld_classic' --enable-ffplay --enable-gnutls --enable-gpl --enable-libaom --enable-libaribb24 --enable-libbluray --enable-libdav1d --enable-libharfbuzz --enable-libjxl --enable-libmp3lame --enable-libopus --enable-librav1e --enable-librist --enable-librubberband --enable-libsnappy --enable-libsrt --enable-libssh --enable-libsvtav1 --enable-libtesseract --enable-libtheora --enable-libvidstab --enable-libvmaf --enable-libvorbis --enable-libvpx --enable-libwebp --enable-libx264 --enable-libx265 --enable-libxml2 --enable-libxvid --enable-lzma --enable-libfontconfig --enable-libfreetype --enable-frei0r --enable-libass --enable-libopencore-amrnb --enable-libopencore-amrwb --enable-libopenjpeg --enable-libspeex --enable-libsoxr --enable-libzmq --enable-libzimg --disable-libjack --disable-indev=jack --enable-videotoolbox --enable-audiotoolbox --enable-neon\n",
      "  libavutil      58. 29.100 / 58. 29.100\n",
      "  libavcodec     60. 31.102 / 60. 31.102\n",
      "  libavformat    60. 16.100 / 60. 16.100\n",
      "  libavdevice    60.  3.100 / 60.  3.100\n",
      "  libavfilter     9. 12.100 /  9. 12.100\n",
      "  libswscale      7.  5.100 /  7.  5.100\n",
      "  libswresample   4. 12.100 /  4. 12.100\n",
      "  libpostproc    57.  3.100 / 57.  3.100\n",
      "Input #0, avi, from 'out.avi':\n",
      "  Metadata:\n",
      "    software        : Lavf60.3.100\n",
      "  Duration: 00:00:10.92, start: 0.000000, bitrate: 2690 kb/s\n",
      "  Stream #0:0: Video: mpeg4 (Simple Profile) (DIVX / 0x58564944), yuv420p, 1200x1446 [SAR 1:1 DAR 200:241], 2704 kb/s, 12 fps, 12 tbr, 12 tbn\n",
      "Stream mapping:\n",
      "  Stream #0:0 -> #0:0 (mpeg4 (native) -> h264 (libx264))\n",
      "Press [q] to stop, [?] for help\n",
      "\u001b[1;36m[libx264 @ 0x152907be0] \u001b[0musing SAR=1/1\n",
      "\u001b[1;36m[libx264 @ 0x152907be0] \u001b[0musing cpu capabilities: ARMv8 NEON\n",
      "\u001b[1;36m[libx264 @ 0x152907be0] \u001b[0mprofile High, level 4.0, 4:2:0, 8-bit\n",
      "\u001b[1;36m[libx264 @ 0x152907be0] \u001b[0m264 - core 164 r3108 31e19f9 - H.264/MPEG-4 AVC codec - Copyleft 2003-2023 - http://www.videolan.org/x264.html - options: cabac=1 ref=3 deblock=1:0:0 analyse=0x3:0x113 me=hex subme=7 psy=1 psy_rd=1.00:0.00 mixed_ref=1 me_range=16 chroma_me=1 trellis=1 8x8dct=1 cqm=0 deadzone=21,11 fast_pskip=1 chroma_qp_offset=-2 threads=12 lookahead_threads=2 sliced_threads=0 nr=0 decimate=1 interlaced=0 bluray_compat=0 constrained_intra=0 bframes=3 b_pyramid=2 b_adapt=1 b_bias=0 direct=1 weightb=1 open_gop=0 weightp=2 keyint=250 keyint_min=12 scenecut=40 intra_refresh=0 rc_lookahead=40 rc=crf mbtree=1 crf=23.0 qcomp=0.60 qpmin=0 qpmax=69 qpstep=4 ip_ratio=1.40 aq=1:1.00\n",
      "Output #0, mp4, to 'out.mp4':\n",
      "  Metadata:\n",
      "    software        : Lavf60.3.100\n",
      "    encoder         : Lavf60.16.100\n",
      "  Stream #0:0: Video: h264 (avc1 / 0x31637661), yuv420p(progressive), 1200x1446 [SAR 1:1 DAR 200:241], q=2-31, 12 fps, 12288 tbn\n",
      "    Metadata:\n",
      "      encoder         : Lavc60.31.102 libx264\n",
      "    Side data:\n",
      "      cpb: bitrate max/min/avg: 0/0/0 buffer size: 0 vbv_delay: N/A\n",
      "\u001b[1;35m[out#0/mp4 @ 0x152906bb0] \u001b[0mvideo:700kB audio:0kB subtitle:0kB other streams:0kB global headers:0kB muxing overhead: 0.339802%\n",
      "frame=  131 fps= 70 q=-1.0 Lsize=     702kB time=00:00:10.66 bitrate= 539.0kbits/s speed=5.67x    \n",
      "\u001b[1;36m[libx264 @ 0x152907be0] \u001b[0mframe I:1     Avg QP:16.42  size:204589\n",
      "\u001b[1;36m[libx264 @ 0x152907be0] \u001b[0mframe P:36    Avg QP:16.19  size: 10785\n",
      "\u001b[1;36m[libx264 @ 0x152907be0] \u001b[0mframe B:94    Avg QP:23.63  size:  1306\n",
      "\u001b[1;36m[libx264 @ 0x152907be0] \u001b[0mconsecutive B-frames:  3.1%  3.1%  2.3% 91.6%\n",
      "\u001b[1;36m[libx264 @ 0x152907be0] \u001b[0mmb I  I16..4:  5.8% 93.8%  0.4%\n",
      "\u001b[1;36m[libx264 @ 0x152907be0] \u001b[0mmb P  I16..4:  0.2%  1.2%  0.0%  P16..4:  9.8%  2.4%  2.1%  0.0%  0.0%    skip:84.3%\n",
      "\u001b[1;36m[libx264 @ 0x152907be0] \u001b[0mmb B  I16..4:  0.1%  0.6%  0.0%  B16..8:  5.0%  0.6%  0.0%  direct: 0.1%  skip:93.6%  L0:45.2% L1:52.0% BI: 2.8%\n",
      "\u001b[1;36m[libx264 @ 0x152907be0] \u001b[0m8x8 transform intra:90.3% inter:92.3%\n",
      "\u001b[1;36m[libx264 @ 0x152907be0] \u001b[0mcoded y,uvDC,uvAC intra: 76.9% 34.4% 2.0% inter: 3.0% 1.2% 0.0%\n",
      "\u001b[1;36m[libx264 @ 0x152907be0] \u001b[0mi16 v,h,dc,p: 24% 31% 17% 28%\n",
      "\u001b[1;36m[libx264 @ 0x152907be0] \u001b[0mi8 v,h,dc,ddl,ddr,vr,hd,vl,hu: 20% 22% 38%  3%  3%  3%  4%  4%  4%\n",
      "\u001b[1;36m[libx264 @ 0x152907be0] \u001b[0mi4 v,h,dc,ddl,ddr,vr,hd,vl,hu: 32% 26% 10%  3%  8%  7%  8%  3%  3%\n",
      "\u001b[1;36m[libx264 @ 0x152907be0] \u001b[0mi8c dc,h,v,p: 67% 20% 12%  2%\n",
      "\u001b[1;36m[libx264 @ 0x152907be0] \u001b[0mWeighted P-Frames: Y:0.0% UV:0.0%\n",
      "\u001b[1;36m[libx264 @ 0x152907be0] \u001b[0mref P L0: 72.8%  8.0% 13.1%  6.1%\n",
      "\u001b[1;36m[libx264 @ 0x152907be0] \u001b[0mref B L0: 76.8% 16.0%  7.1%\n",
      "\u001b[1;36m[libx264 @ 0x152907be0] \u001b[0mref B L1: 87.0% 13.0%\n",
      "\u001b[1;36m[libx264 @ 0x152907be0] \u001b[0mkb/s:524.42\n"
     ]
    }
   ],
   "source": [
    "!ffmpeg -i out.avi out.mp4 -y"
   ]
  }
 ],
 "metadata": {
  "kernelspec": {
   "display_name": ".venv",
   "language": "python",
   "name": "python3"
  },
  "language_info": {
   "codemirror_mode": {
    "name": "ipython",
    "version": 3
   },
   "file_extension": ".py",
   "mimetype": "text/x-python",
   "name": "python",
   "nbconvert_exporter": "python",
   "pygments_lexer": "ipython3",
   "version": "3.11.7"
  }
 },
 "nbformat": 4,
 "nbformat_minor": 2
}
