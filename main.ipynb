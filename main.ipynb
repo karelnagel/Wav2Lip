{
 "cells": [
  {
   "cell_type": "code",
   "execution_count": 1,
   "metadata": {},
   "outputs": [],
   "source": [
    "from wav2lip import Wav2Lip"
   ]
  },
  {
   "cell_type": "code",
   "execution_count": 2,
   "metadata": {},
   "outputs": [
    {
     "name": "stdout",
     "output_type": "stream",
     "text": [
      "Load checkpoint from: wav2lip_gan.pth\n"
     ]
    }
   ],
   "source": [
    "checkpoint = \"wav2lip_gan.pth\"\n",
    "wav2lip = Wav2Lip(checkpoint,12)"
   ]
  },
  {
   "cell_type": "code",
   "execution_count": 3,
   "metadata": {},
   "outputs": [],
   "source": [
    "import io\n",
    "def get_bytes(path:str):\n",
    "    with open(path,\"rb\") as f:\n",
    "        return io.BytesIO(f.read())"
   ]
  },
  {
   "cell_type": "code",
   "execution_count": 4,
   "metadata": {},
   "outputs": [
    {
     "name": "stdout",
     "output_type": "stream",
     "text": [
      "Number of frames available for inference: 1\n",
      "(80, 881)\n",
      "Length of mel chunks: 131\n"
     ]
    },
    {
     "name": "stderr",
     "output_type": "stream",
     "text": [
      "100%|██████████| 1/1 [00:39<00:00, 39.74s/it]\n",
      "100%|██████████| 2/2 [00:52<00:00, 26.16s/it]"
     ]
    },
    {
     "name": "stdout",
     "output_type": "stream",
     "text": [
      "Saved to out.avi\n",
      "out.avi\n"
     ]
    },
    {
     "name": "stderr",
     "output_type": "stream",
     "text": [
      "\n"
     ]
    }
   ],
   "source": [
    "\n",
    "face=\"jfk.jpg\"\n",
    "audio=\"jfk.wav\"\n",
    "audio=get_bytes(audio)\n",
    "out=\"out.avi\"\n",
    "res= wav2lip.infer(face_path=face,audio_path=audio,out_path=out,static=True)\n",
    "print(res)"
   ]
  }
 ],
 "metadata": {
  "kernelspec": {
   "display_name": ".venv",
   "language": "python",
   "name": "python3"
  },
  "language_info": {
   "codemirror_mode": {
    "name": "ipython",
    "version": 3
   },
   "file_extension": ".py",
   "mimetype": "text/x-python",
   "name": "python",
   "nbconvert_exporter": "python",
   "pygments_lexer": "ipython3",
   "version": "3.11.7"
  }
 },
 "nbformat": 4,
 "nbformat_minor": 2
}
